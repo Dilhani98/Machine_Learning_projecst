{
  "nbformat": 4,
  "nbformat_minor": 0,
  "metadata": {
    "colab": {
      "provenance": [],
      "collapsed_sections": [
        "6ClGyqW28RAP",
        "-3SFw8RxnP55",
        "oZ61a6oXhnhR"
      ],
      "authorship_tag": "ABX9TyO7S8vw18Iq1bA0g47fpZnY",
      "include_colab_link": true
    },
    "kernelspec": {
      "name": "python3",
      "display_name": "Python 3"
    },
    "language_info": {
      "name": "python"
    }
  },
  "cells": [
    {
      "cell_type": "markdown",
      "metadata": {
        "id": "view-in-github",
        "colab_type": "text"
      },
      "source": [
        "<a href=\"https://colab.research.google.com/github/Dilhani98/Machine_Learning_project/blob/main/194032N_Dilhani_M_G_N.ipynb\" target=\"_parent\"><img src=\"https://colab.research.google.com/assets/colab-badge.svg\" alt=\"Open In Colab\"/></a>"
      ]
    },
    {
      "cell_type": "markdown",
      "source": [
        "# Preprocessing"
      ],
      "metadata": {
        "id": "hiWIVVVKa61Z"
      }
    },
    {
      "cell_type": "code",
      "execution_count": null,
      "metadata": {
        "id": "czlizYiJWDgf",
        "colab": {
          "base_uri": "https://localhost:8080/"
        },
        "outputId": "c58c3e59-dc6c-4395-d129-e95247508d20"
      },
      "outputs": [
        {
          "output_type": "stream",
          "name": "stdout",
          "text": [
            "Mounted at /content/gdrive\n"
          ]
        }
      ],
      "source": [
        "from google.colab import drive\n",
        "drive.mount('/content/gdrive')"
      ]
    },
    {
      "cell_type": "code",
      "source": [
        "import pandas as pd\n",
        "\n",
        "# Specify the path to the CSV file within your Google Drive\n",
        "csv_file_path = '/content/gdrive/My Drive/Colab Notebooks/Assignement/weatherHistory.csv'\n",
        "\n",
        "# Read the CSV file into a Pandas DataFrame\n",
        "df = pd.read_csv(csv_file_path)\n",
        "\n",
        "# Now, 'df' contains your CSV data, and you can work with it in your Colab notebook.\n",
        "df"
      ],
      "metadata": {
        "id": "Q-2hfj54YeSr",
        "colab": {
          "base_uri": "https://localhost:8080/",
          "height": 1000
        },
        "outputId": "8f5d4ee6-4425-4922-e3b3-8f9d48ef8782"
      },
      "execution_count": null,
      "outputs": [
        {
          "output_type": "execute_result",
          "data": {
            "text/plain": [
              "                      Formatted Date        Summary Precip Type  \\\n",
              "0      2006-04-01 00:00:00.000 +0200  Partly Cloudy        rain   \n",
              "1      2006-04-01 01:00:00.000 +0200  Partly Cloudy        rain   \n",
              "2      2006-04-01 02:00:00.000 +0200  Mostly Cloudy        rain   \n",
              "3      2006-04-01 03:00:00.000 +0200  Partly Cloudy        rain   \n",
              "4      2006-04-01 04:00:00.000 +0200  Mostly Cloudy        rain   \n",
              "...                              ...            ...         ...   \n",
              "96448  2016-09-09 19:00:00.000 +0200  Partly Cloudy        rain   \n",
              "96449  2016-09-09 20:00:00.000 +0200  Partly Cloudy        rain   \n",
              "96450  2016-09-09 21:00:00.000 +0200  Partly Cloudy        rain   \n",
              "96451  2016-09-09 22:00:00.000 +0200  Partly Cloudy        rain   \n",
              "96452  2016-09-09 23:00:00.000 +0200  Partly Cloudy        rain   \n",
              "\n",
              "       Temperature (C)  Apparent Temperature (C)  Humidity  Wind Speed (km/h)  \\\n",
              "0             9.472222                  7.388889      0.89            14.1197   \n",
              "1             9.355556                  7.227778      0.86            14.2646   \n",
              "2             9.377778                  9.377778      0.89             3.9284   \n",
              "3             8.288889                  5.944444      0.83            14.1036   \n",
              "4             8.755556                  6.977778      0.83            11.0446   \n",
              "...                ...                       ...       ...                ...   \n",
              "96448        26.016667                 26.016667      0.43            10.9963   \n",
              "96449        24.583333                 24.583333      0.48            10.0947   \n",
              "96450        22.038889                 22.038889      0.56             8.9838   \n",
              "96451        21.522222                 21.522222      0.60            10.5294   \n",
              "96452        20.438889                 20.438889      0.61             5.8765   \n",
              "\n",
              "       Wind Bearing (degrees)  Visibility (km)  Loud Cover  \\\n",
              "0                       251.0          15.8263         0.0   \n",
              "1                       259.0          15.8263         0.0   \n",
              "2                       204.0          14.9569         0.0   \n",
              "3                       269.0          15.8263         0.0   \n",
              "4                       259.0          15.8263         0.0   \n",
              "...                       ...              ...         ...   \n",
              "96448                    31.0          16.1000         0.0   \n",
              "96449                    20.0          15.5526         0.0   \n",
              "96450                    30.0          16.1000         0.0   \n",
              "96451                    20.0          16.1000         0.0   \n",
              "96452                    39.0          15.5204         0.0   \n",
              "\n",
              "       Pressure (millibars)                           Daily Summary  \n",
              "0                   1015.13       Partly cloudy throughout the day.  \n",
              "1                   1015.63       Partly cloudy throughout the day.  \n",
              "2                   1015.94       Partly cloudy throughout the day.  \n",
              "3                   1016.41       Partly cloudy throughout the day.  \n",
              "4                   1016.51       Partly cloudy throughout the day.  \n",
              "...                     ...                                     ...  \n",
              "96448               1014.36  Partly cloudy starting in the morning.  \n",
              "96449               1015.16  Partly cloudy starting in the morning.  \n",
              "96450               1015.66  Partly cloudy starting in the morning.  \n",
              "96451               1015.95  Partly cloudy starting in the morning.  \n",
              "96452               1016.16  Partly cloudy starting in the morning.  \n",
              "\n",
              "[96453 rows x 12 columns]"
            ],
            "text/html": [
              "\n",
              "  <div id=\"df-51a65328-7a39-4b6a-83d2-fe3876506231\" class=\"colab-df-container\">\n",
              "    <div>\n",
              "<style scoped>\n",
              "    .dataframe tbody tr th:only-of-type {\n",
              "        vertical-align: middle;\n",
              "    }\n",
              "\n",
              "    .dataframe tbody tr th {\n",
              "        vertical-align: top;\n",
              "    }\n",
              "\n",
              "    .dataframe thead th {\n",
              "        text-align: right;\n",
              "    }\n",
              "</style>\n",
              "<table border=\"1\" class=\"dataframe\">\n",
              "  <thead>\n",
              "    <tr style=\"text-align: right;\">\n",
              "      <th></th>\n",
              "      <th>Formatted Date</th>\n",
              "      <th>Summary</th>\n",
              "      <th>Precip Type</th>\n",
              "      <th>Temperature (C)</th>\n",
              "      <th>Apparent Temperature (C)</th>\n",
              "      <th>Humidity</th>\n",
              "      <th>Wind Speed (km/h)</th>\n",
              "      <th>Wind Bearing (degrees)</th>\n",
              "      <th>Visibility (km)</th>\n",
              "      <th>Loud Cover</th>\n",
              "      <th>Pressure (millibars)</th>\n",
              "      <th>Daily Summary</th>\n",
              "    </tr>\n",
              "  </thead>\n",
              "  <tbody>\n",
              "    <tr>\n",
              "      <th>0</th>\n",
              "      <td>2006-04-01 00:00:00.000 +0200</td>\n",
              "      <td>Partly Cloudy</td>\n",
              "      <td>rain</td>\n",
              "      <td>9.472222</td>\n",
              "      <td>7.388889</td>\n",
              "      <td>0.89</td>\n",
              "      <td>14.1197</td>\n",
              "      <td>251.0</td>\n",
              "      <td>15.8263</td>\n",
              "      <td>0.0</td>\n",
              "      <td>1015.13</td>\n",
              "      <td>Partly cloudy throughout the day.</td>\n",
              "    </tr>\n",
              "    <tr>\n",
              "      <th>1</th>\n",
              "      <td>2006-04-01 01:00:00.000 +0200</td>\n",
              "      <td>Partly Cloudy</td>\n",
              "      <td>rain</td>\n",
              "      <td>9.355556</td>\n",
              "      <td>7.227778</td>\n",
              "      <td>0.86</td>\n",
              "      <td>14.2646</td>\n",
              "      <td>259.0</td>\n",
              "      <td>15.8263</td>\n",
              "      <td>0.0</td>\n",
              "      <td>1015.63</td>\n",
              "      <td>Partly cloudy throughout the day.</td>\n",
              "    </tr>\n",
              "    <tr>\n",
              "      <th>2</th>\n",
              "      <td>2006-04-01 02:00:00.000 +0200</td>\n",
              "      <td>Mostly Cloudy</td>\n",
              "      <td>rain</td>\n",
              "      <td>9.377778</td>\n",
              "      <td>9.377778</td>\n",
              "      <td>0.89</td>\n",
              "      <td>3.9284</td>\n",
              "      <td>204.0</td>\n",
              "      <td>14.9569</td>\n",
              "      <td>0.0</td>\n",
              "      <td>1015.94</td>\n",
              "      <td>Partly cloudy throughout the day.</td>\n",
              "    </tr>\n",
              "    <tr>\n",
              "      <th>3</th>\n",
              "      <td>2006-04-01 03:00:00.000 +0200</td>\n",
              "      <td>Partly Cloudy</td>\n",
              "      <td>rain</td>\n",
              "      <td>8.288889</td>\n",
              "      <td>5.944444</td>\n",
              "      <td>0.83</td>\n",
              "      <td>14.1036</td>\n",
              "      <td>269.0</td>\n",
              "      <td>15.8263</td>\n",
              "      <td>0.0</td>\n",
              "      <td>1016.41</td>\n",
              "      <td>Partly cloudy throughout the day.</td>\n",
              "    </tr>\n",
              "    <tr>\n",
              "      <th>4</th>\n",
              "      <td>2006-04-01 04:00:00.000 +0200</td>\n",
              "      <td>Mostly Cloudy</td>\n",
              "      <td>rain</td>\n",
              "      <td>8.755556</td>\n",
              "      <td>6.977778</td>\n",
              "      <td>0.83</td>\n",
              "      <td>11.0446</td>\n",
              "      <td>259.0</td>\n",
              "      <td>15.8263</td>\n",
              "      <td>0.0</td>\n",
              "      <td>1016.51</td>\n",
              "      <td>Partly cloudy throughout the day.</td>\n",
              "    </tr>\n",
              "    <tr>\n",
              "      <th>...</th>\n",
              "      <td>...</td>\n",
              "      <td>...</td>\n",
              "      <td>...</td>\n",
              "      <td>...</td>\n",
              "      <td>...</td>\n",
              "      <td>...</td>\n",
              "      <td>...</td>\n",
              "      <td>...</td>\n",
              "      <td>...</td>\n",
              "      <td>...</td>\n",
              "      <td>...</td>\n",
              "      <td>...</td>\n",
              "    </tr>\n",
              "    <tr>\n",
              "      <th>96448</th>\n",
              "      <td>2016-09-09 19:00:00.000 +0200</td>\n",
              "      <td>Partly Cloudy</td>\n",
              "      <td>rain</td>\n",
              "      <td>26.016667</td>\n",
              "      <td>26.016667</td>\n",
              "      <td>0.43</td>\n",
              "      <td>10.9963</td>\n",
              "      <td>31.0</td>\n",
              "      <td>16.1000</td>\n",
              "      <td>0.0</td>\n",
              "      <td>1014.36</td>\n",
              "      <td>Partly cloudy starting in the morning.</td>\n",
              "    </tr>\n",
              "    <tr>\n",
              "      <th>96449</th>\n",
              "      <td>2016-09-09 20:00:00.000 +0200</td>\n",
              "      <td>Partly Cloudy</td>\n",
              "      <td>rain</td>\n",
              "      <td>24.583333</td>\n",
              "      <td>24.583333</td>\n",
              "      <td>0.48</td>\n",
              "      <td>10.0947</td>\n",
              "      <td>20.0</td>\n",
              "      <td>15.5526</td>\n",
              "      <td>0.0</td>\n",
              "      <td>1015.16</td>\n",
              "      <td>Partly cloudy starting in the morning.</td>\n",
              "    </tr>\n",
              "    <tr>\n",
              "      <th>96450</th>\n",
              "      <td>2016-09-09 21:00:00.000 +0200</td>\n",
              "      <td>Partly Cloudy</td>\n",
              "      <td>rain</td>\n",
              "      <td>22.038889</td>\n",
              "      <td>22.038889</td>\n",
              "      <td>0.56</td>\n",
              "      <td>8.9838</td>\n",
              "      <td>30.0</td>\n",
              "      <td>16.1000</td>\n",
              "      <td>0.0</td>\n",
              "      <td>1015.66</td>\n",
              "      <td>Partly cloudy starting in the morning.</td>\n",
              "    </tr>\n",
              "    <tr>\n",
              "      <th>96451</th>\n",
              "      <td>2016-09-09 22:00:00.000 +0200</td>\n",
              "      <td>Partly Cloudy</td>\n",
              "      <td>rain</td>\n",
              "      <td>21.522222</td>\n",
              "      <td>21.522222</td>\n",
              "      <td>0.60</td>\n",
              "      <td>10.5294</td>\n",
              "      <td>20.0</td>\n",
              "      <td>16.1000</td>\n",
              "      <td>0.0</td>\n",
              "      <td>1015.95</td>\n",
              "      <td>Partly cloudy starting in the morning.</td>\n",
              "    </tr>\n",
              "    <tr>\n",
              "      <th>96452</th>\n",
              "      <td>2016-09-09 23:00:00.000 +0200</td>\n",
              "      <td>Partly Cloudy</td>\n",
              "      <td>rain</td>\n",
              "      <td>20.438889</td>\n",
              "      <td>20.438889</td>\n",
              "      <td>0.61</td>\n",
              "      <td>5.8765</td>\n",
              "      <td>39.0</td>\n",
              "      <td>15.5204</td>\n",
              "      <td>0.0</td>\n",
              "      <td>1016.16</td>\n",
              "      <td>Partly cloudy starting in the morning.</td>\n",
              "    </tr>\n",
              "  </tbody>\n",
              "</table>\n",
              "<p>96453 rows × 12 columns</p>\n",
              "</div>\n",
              "    <div class=\"colab-df-buttons\">\n",
              "\n",
              "  <div class=\"colab-df-container\">\n",
              "    <button class=\"colab-df-convert\" onclick=\"convertToInteractive('df-51a65328-7a39-4b6a-83d2-fe3876506231')\"\n",
              "            title=\"Convert this dataframe to an interactive table.\"\n",
              "            style=\"display:none;\">\n",
              "\n",
              "  <svg xmlns=\"http://www.w3.org/2000/svg\" height=\"24px\" viewBox=\"0 -960 960 960\">\n",
              "    <path d=\"M120-120v-720h720v720H120Zm60-500h600v-160H180v160Zm220 220h160v-160H400v160Zm0 220h160v-160H400v160ZM180-400h160v-160H180v160Zm440 0h160v-160H620v160ZM180-180h160v-160H180v160Zm440 0h160v-160H620v160Z\"/>\n",
              "  </svg>\n",
              "    </button>\n",
              "\n",
              "  <style>\n",
              "    .colab-df-container {\n",
              "      display:flex;\n",
              "      gap: 12px;\n",
              "    }\n",
              "\n",
              "    .colab-df-convert {\n",
              "      background-color: #E8F0FE;\n",
              "      border: none;\n",
              "      border-radius: 50%;\n",
              "      cursor: pointer;\n",
              "      display: none;\n",
              "      fill: #1967D2;\n",
              "      height: 32px;\n",
              "      padding: 0 0 0 0;\n",
              "      width: 32px;\n",
              "    }\n",
              "\n",
              "    .colab-df-convert:hover {\n",
              "      background-color: #E2EBFA;\n",
              "      box-shadow: 0px 1px 2px rgba(60, 64, 67, 0.3), 0px 1px 3px 1px rgba(60, 64, 67, 0.15);\n",
              "      fill: #174EA6;\n",
              "    }\n",
              "\n",
              "    .colab-df-buttons div {\n",
              "      margin-bottom: 4px;\n",
              "    }\n",
              "\n",
              "    [theme=dark] .colab-df-convert {\n",
              "      background-color: #3B4455;\n",
              "      fill: #D2E3FC;\n",
              "    }\n",
              "\n",
              "    [theme=dark] .colab-df-convert:hover {\n",
              "      background-color: #434B5C;\n",
              "      box-shadow: 0px 1px 3px 1px rgba(0, 0, 0, 0.15);\n",
              "      filter: drop-shadow(0px 1px 2px rgba(0, 0, 0, 0.3));\n",
              "      fill: #FFFFFF;\n",
              "    }\n",
              "  </style>\n",
              "\n",
              "    <script>\n",
              "      const buttonEl =\n",
              "        document.querySelector('#df-51a65328-7a39-4b6a-83d2-fe3876506231 button.colab-df-convert');\n",
              "      buttonEl.style.display =\n",
              "        google.colab.kernel.accessAllowed ? 'block' : 'none';\n",
              "\n",
              "      async function convertToInteractive(key) {\n",
              "        const element = document.querySelector('#df-51a65328-7a39-4b6a-83d2-fe3876506231');\n",
              "        const dataTable =\n",
              "          await google.colab.kernel.invokeFunction('convertToInteractive',\n",
              "                                                    [key], {});\n",
              "        if (!dataTable) return;\n",
              "\n",
              "        const docLinkHtml = 'Like what you see? Visit the ' +\n",
              "          '<a target=\"_blank\" href=https://colab.research.google.com/notebooks/data_table.ipynb>data table notebook</a>'\n",
              "          + ' to learn more about interactive tables.';\n",
              "        element.innerHTML = '';\n",
              "        dataTable['output_type'] = 'display_data';\n",
              "        await google.colab.output.renderOutput(dataTable, element);\n",
              "        const docLink = document.createElement('div');\n",
              "        docLink.innerHTML = docLinkHtml;\n",
              "        element.appendChild(docLink);\n",
              "      }\n",
              "    </script>\n",
              "  </div>\n",
              "\n",
              "\n",
              "<div id=\"df-37fd7ae6-fec1-42e8-b24a-1c7d261619bf\">\n",
              "  <button class=\"colab-df-quickchart\" onclick=\"quickchart('df-37fd7ae6-fec1-42e8-b24a-1c7d261619bf')\"\n",
              "            title=\"Suggest charts.\"\n",
              "            style=\"display:none;\">\n",
              "\n",
              "<svg xmlns=\"http://www.w3.org/2000/svg\" height=\"24px\"viewBox=\"0 0 24 24\"\n",
              "     width=\"24px\">\n",
              "    <g>\n",
              "        <path d=\"M19 3H5c-1.1 0-2 .9-2 2v14c0 1.1.9 2 2 2h14c1.1 0 2-.9 2-2V5c0-1.1-.9-2-2-2zM9 17H7v-7h2v7zm4 0h-2V7h2v10zm4 0h-2v-4h2v4z\"/>\n",
              "    </g>\n",
              "</svg>\n",
              "  </button>\n",
              "\n",
              "<style>\n",
              "  .colab-df-quickchart {\n",
              "      --bg-color: #E8F0FE;\n",
              "      --fill-color: #1967D2;\n",
              "      --hover-bg-color: #E2EBFA;\n",
              "      --hover-fill-color: #174EA6;\n",
              "      --disabled-fill-color: #AAA;\n",
              "      --disabled-bg-color: #DDD;\n",
              "  }\n",
              "\n",
              "  [theme=dark] .colab-df-quickchart {\n",
              "      --bg-color: #3B4455;\n",
              "      --fill-color: #D2E3FC;\n",
              "      --hover-bg-color: #434B5C;\n",
              "      --hover-fill-color: #FFFFFF;\n",
              "      --disabled-bg-color: #3B4455;\n",
              "      --disabled-fill-color: #666;\n",
              "  }\n",
              "\n",
              "  .colab-df-quickchart {\n",
              "    background-color: var(--bg-color);\n",
              "    border: none;\n",
              "    border-radius: 50%;\n",
              "    cursor: pointer;\n",
              "    display: none;\n",
              "    fill: var(--fill-color);\n",
              "    height: 32px;\n",
              "    padding: 0;\n",
              "    width: 32px;\n",
              "  }\n",
              "\n",
              "  .colab-df-quickchart:hover {\n",
              "    background-color: var(--hover-bg-color);\n",
              "    box-shadow: 0 1px 2px rgba(60, 64, 67, 0.3), 0 1px 3px 1px rgba(60, 64, 67, 0.15);\n",
              "    fill: var(--button-hover-fill-color);\n",
              "  }\n",
              "\n",
              "  .colab-df-quickchart-complete:disabled,\n",
              "  .colab-df-quickchart-complete:disabled:hover {\n",
              "    background-color: var(--disabled-bg-color);\n",
              "    fill: var(--disabled-fill-color);\n",
              "    box-shadow: none;\n",
              "  }\n",
              "\n",
              "  .colab-df-spinner {\n",
              "    border: 2px solid var(--fill-color);\n",
              "    border-color: transparent;\n",
              "    border-bottom-color: var(--fill-color);\n",
              "    animation:\n",
              "      spin 1s steps(1) infinite;\n",
              "  }\n",
              "\n",
              "  @keyframes spin {\n",
              "    0% {\n",
              "      border-color: transparent;\n",
              "      border-bottom-color: var(--fill-color);\n",
              "      border-left-color: var(--fill-color);\n",
              "    }\n",
              "    20% {\n",
              "      border-color: transparent;\n",
              "      border-left-color: var(--fill-color);\n",
              "      border-top-color: var(--fill-color);\n",
              "    }\n",
              "    30% {\n",
              "      border-color: transparent;\n",
              "      border-left-color: var(--fill-color);\n",
              "      border-top-color: var(--fill-color);\n",
              "      border-right-color: var(--fill-color);\n",
              "    }\n",
              "    40% {\n",
              "      border-color: transparent;\n",
              "      border-right-color: var(--fill-color);\n",
              "      border-top-color: var(--fill-color);\n",
              "    }\n",
              "    60% {\n",
              "      border-color: transparent;\n",
              "      border-right-color: var(--fill-color);\n",
              "    }\n",
              "    80% {\n",
              "      border-color: transparent;\n",
              "      border-right-color: var(--fill-color);\n",
              "      border-bottom-color: var(--fill-color);\n",
              "    }\n",
              "    90% {\n",
              "      border-color: transparent;\n",
              "      border-bottom-color: var(--fill-color);\n",
              "    }\n",
              "  }\n",
              "</style>\n",
              "\n",
              "  <script>\n",
              "    async function quickchart(key) {\n",
              "      const quickchartButtonEl =\n",
              "        document.querySelector('#' + key + ' button');\n",
              "      quickchartButtonEl.disabled = true;  // To prevent multiple clicks.\n",
              "      quickchartButtonEl.classList.add('colab-df-spinner');\n",
              "      try {\n",
              "        const charts = await google.colab.kernel.invokeFunction(\n",
              "            'suggestCharts', [key], {});\n",
              "      } catch (error) {\n",
              "        console.error('Error during call to suggestCharts:', error);\n",
              "      }\n",
              "      quickchartButtonEl.classList.remove('colab-df-spinner');\n",
              "      quickchartButtonEl.classList.add('colab-df-quickchart-complete');\n",
              "    }\n",
              "    (() => {\n",
              "      let quickchartButtonEl =\n",
              "        document.querySelector('#df-37fd7ae6-fec1-42e8-b24a-1c7d261619bf button');\n",
              "      quickchartButtonEl.style.display =\n",
              "        google.colab.kernel.accessAllowed ? 'block' : 'none';\n",
              "    })();\n",
              "  </script>\n",
              "</div>\n",
              "    </div>\n",
              "  </div>\n"
            ]
          },
          "metadata": {},
          "execution_count": 3
        }
      ]
    },
    {
      "cell_type": "code",
      "source": [
        "df.describe()"
      ],
      "metadata": {
        "id": "8Cp6lCP8ARrF"
      },
      "execution_count": null,
      "outputs": []
    },
    {
      "cell_type": "markdown",
      "source": [
        "Loud cover contain all 0 values.it can be data entry error.so remove the column to simplify dataset and reduce noise."
      ],
      "metadata": {
        "id": "t_a67-VMKhMm"
      }
    },
    {
      "cell_type": "code",
      "source": [
        "df.drop(columns=['Loud Cover'], inplace=True)\n",
        "df"
      ],
      "metadata": {
        "id": "D7wqXOZgLue_"
      },
      "execution_count": null,
      "outputs": []
    },
    {
      "cell_type": "code",
      "source": [
        "X_cols = [\"Apparent Temperature (C)\",\"Humidity\",\"Wind Speed (km/h)\",\"Wind Bearing (degrees)\",\"Visibility (km)\",\"Pressure (millibars)\"]\n",
        "y_cols = [\"Temperature (C)\"]\n",
        "sns.pairplot(df,x_vars= X_cols,y_vars= y_cols)"
      ],
      "metadata": {
        "id": "ekCA7L1yH5qL"
      },
      "execution_count": null,
      "outputs": []
    },
    {
      "cell_type": "code",
      "source": [
        "df.hist(linewidth=1.2, figsize=(12,8));\n"
      ],
      "metadata": {
        "id": "IQnXIjUNBBcU"
      },
      "execution_count": null,
      "outputs": []
    },
    {
      "cell_type": "markdown",
      "source": [
        "\n",
        "\n",
        "1.   Handling Missing Values\n",
        "\n"
      ],
      "metadata": {
        "id": "JeqjiUekbP-K"
      }
    },
    {
      "cell_type": "code",
      "source": [
        "import seaborn as sns\n",
        "import matplotlib.pyplot as plt\n",
        "\n",
        "# Create a bar plot\n",
        "plt.figure(figsize=(8, 6))\n",
        "sns.countplot(data=df, x='Precip Type')\n",
        "plt.title('Distribution of Categories')\n",
        "plt.xlabel('Precip Type')\n",
        "plt.ylabel('Count')\n",
        "plt.show()"
      ],
      "metadata": {
        "id": "FN0FCIUQbPrQ"
      },
      "execution_count": null,
      "outputs": []
    },
    {
      "cell_type": "code",
      "source": [
        "# Check for missing values\n",
        "missing_values = df.isnull().sum()\n",
        "print(\"Missing Values:\")\n",
        "print(missing_values)"
      ],
      "metadata": {
        "id": "xbqB7b-VaLhy"
      },
      "execution_count": null,
      "outputs": []
    },
    {
      "cell_type": "markdown",
      "source": [
        "Precip Type contain 5% of missing values. large dataset small precentage of missing values.so we can delete missing values. but when look at distribution there is a clear majority category(rain) in the dataset. so it is good to impute missing value with rain.percentage of missing values is relatively small, and there is a clear majority category in the dataset.so impute missing value with mode."
      ],
      "metadata": {
        "id": "Pd3dXg1FNTs-"
      }
    },
    {
      "cell_type": "code",
      "source": [
        "# Replace missing values in the 'Precip Type' column with 'Rain'\n",
        "df['Precip Type'].fillna('Rain', inplace=True)\n",
        "df"
      ],
      "metadata": {
        "id": "Lxw5ihnpQlr3"
      },
      "execution_count": null,
      "outputs": []
    },
    {
      "cell_type": "markdown",
      "source": [
        "2. Handling outliers\n"
      ],
      "metadata": {
        "id": "rhgamQe7bZDd"
      }
    },
    {
      "cell_type": "code",
      "source": [
        "import pandas as pd\n",
        "import matplotlib.pyplot as plt\n",
        "\n",
        "# Specify the columns to create box plots for\n",
        "columns_to_plot = ['Apparent Temperature (C)', 'Humidity', 'Wind Speed (km/h)',\n",
        "                   'Wind Bearing (degrees)', 'Visibility (km)',\n",
        "                   'Pressure (millibars)', 'Temperature (C)']\n",
        "\n",
        "# Calculate the number of subplots based on the number of columns\n",
        "num_plots = len(columns_to_plot)\n",
        "\n",
        "# Determine the number of rows and columns for the subplots\n",
        "num_rows = 2  # Number of rows\n",
        "num_cols = (num_plots + num_rows - 1) // num_rows  # Calculate the number of columns\n",
        "\n",
        "# Create subplots with a larger figure size and arranged in multiple rows\n",
        "fig, axes = plt.subplots(num_rows, num_cols, figsize=(15, 10))\n",
        "\n",
        "# Loop through each column and create box plots in separate subplots\n",
        "for i, column_name in enumerate(columns_to_plot):\n",
        "    row = i // num_cols\n",
        "    col = i % num_cols\n",
        "    axes[row, col].boxplot(df[column_name], vert=False)\n",
        "    axes[row, col].set_title(f'Box Plot for {column_name}')\n",
        "    axes[row, col].set_xlabel(column_name)\n",
        "\n",
        "# Remove any empty subplots\n",
        "for i in range(num_plots, num_rows * num_cols):\n",
        "    fig.delaxes(axes[i // num_cols, i % num_cols])\n",
        "\n",
        "# Adjust the layout for better spacing\n",
        "plt.tight_layout()\n",
        "\n",
        "# Show the plots\n",
        "plt.show()\n",
        "\n"
      ],
      "metadata": {
        "id": "Bh9vrX4AVJP0"
      },
      "execution_count": null,
      "outputs": []
    },
    {
      "cell_type": "markdown",
      "source": [
        "By refering box plot we can see Apparent temparature, Humidity, wind speed,pressure and temperature have more outliers. Before dealing with outliers we have to identify them."
      ],
      "metadata": {
        "id": "7UnBir5nePKi"
      }
    },
    {
      "cell_type": "code",
      "source": [
        "import pandas as pd\n",
        "import numpy as np\n",
        "\n",
        "\n",
        "# List of numerical variables to process\n",
        "columns = ['Apparent Temperature (C)', 'Humidity', 'Wind Speed (km/h)',\n",
        "                    'Wind Bearing (degrees)', 'Visibility (km)',\n",
        "                    'Pressure (millibars)', 'Temperature (C)']\n",
        "\n",
        "# Dictionary to store outlier counts\n",
        "outlier_counts = {}\n",
        "\n",
        "for var in columns:\n",
        "    # Calculate the Z-scores for the variable\n",
        "    z_scores = (df[var] - df[var].mean()) / df[var].std()\n",
        "\n",
        "    # Identify outliers using Z-score method for the variable\n",
        "    outliers = df.loc[z_scores.abs() > 3]  # Replace '3' with your desired Z-score threshold\n",
        "\n",
        "    # Get the count of outliers and store it in the dictionary\n",
        "    outlier_counts[var] = outliers.shape[0]\n",
        "\n",
        "# Print the outlier counts for each variable\n",
        "for var, count in outlier_counts.items():\n",
        "    print(f\"Count of outliers for '{var}': {count}\")\n"
      ],
      "metadata": {
        "id": "Owwze--YV-YC"
      },
      "execution_count": null,
      "outputs": []
    },
    {
      "cell_type": "markdown",
      "source": [
        "when refer both box plot and z-score method, visisbility and wind bearing has no outliers. wind speed and pressure has more outliers. Apparent temparature, temparature and humidity has less number of outilers. so we futher analyze these outilers to get decison for handling."
      ],
      "metadata": {
        "id": "3tibYV1xXLQf"
      }
    },
    {
      "cell_type": "code",
      "source": [
        "import pandas as pd\n",
        "import numpy as np\n",
        "\n",
        "\n",
        "# Calculate the Z-scores for 'Temperature (C)'\n",
        "z_scores_temp = (df['Temperature (C)'] - df['Temperature (C)'].mean()) / df['Temperature (C)'].std()\n",
        "\n",
        "# Identify outliers using Z-score method for 'Temperature (C)'\n",
        "outliers_temp_z = df.loc[z_scores_temp.abs() > 3]\n",
        "\n",
        "# Calculate IQR and identify outliers using IQR method for 'Temperature (C)'\n",
        "Q1_temp = df['Temperature (C)'].quantile(0.25)\n",
        "Q3_temp = df['Temperature (C)'].quantile(0.75)\n",
        "IQR_temp = Q3_temp - Q1_temp\n",
        "lower_bound_temp = Q1_temp - 1.5 * IQR_temp\n",
        "upper_bound_temp = Q3_temp + 1.5 * IQR_temp\n",
        "outliers_temp_iqr = df.loc[(df['Temperature (C)'] < lower_bound_temp) | (df['Temperature (C)'] > upper_bound_temp)]\n",
        "\n",
        "# Display summary statistics and sample data for contextual and temporal analysis\n",
        "outlier_summary_z = outliers_temp_z[['Formatted Date', 'Summary', 'Apparent Temperature (C)', 'Humidity', 'Wind Speed (km/h)', 'Temperature (C)']].sample(10)\n",
        "outlier_summary_iqr = outliers_temp_iqr[['Formatted Date', 'Summary', 'Apparent Temperature (C)', 'Humidity', 'Wind Speed (km/h)', 'Temperature (C)']].sample(10)\n",
        "\n",
        "print(\"Summary of Outliers using Z-score:\")\n",
        "display(outlier_summary_z)\n",
        "\n",
        "print(\"\\nSummary of Outliers using IQR:\")\n",
        "display(outlier_summary_iqr)"
      ],
      "metadata": {
        "id": "vHl-tkKhRuCw"
      },
      "execution_count": null,
      "outputs": []
    },
    {
      "cell_type": "markdown",
      "source": [
        "It seems these outliers get due to whether pattern in february month. so they are valid data points. so will keep them."
      ],
      "metadata": {
        "id": "IDqo6rADabtB"
      }
    },
    {
      "cell_type": "code",
      "source": [
        "import pandas as pd\n",
        "import numpy as np\n",
        "\n",
        "\n",
        "# Calculate the Z-scores for 'Temperature (C)'\n",
        "z_scores_temp = (df['Humidity'] - df['Humidity'].mean()) / df['Humidity'].std()\n",
        "\n",
        "# Identify outliers using Z-score method for 'Temperature (C)'\n",
        "outliers_temp_z = df.loc[z_scores_temp.abs() > 3]\n",
        "\n",
        "# Calculate IQR and identify outliers using IQR method for 'Temperature (C)'\n",
        "Q1_temp = df['Humidity'].quantile(0.25)\n",
        "Q3_temp = df['Humidity'].quantile(0.75)\n",
        "IQR_temp = Q3_temp - Q1_temp\n",
        "lower_bound_temp = Q1_temp - 1.5 * IQR_temp\n",
        "upper_bound_temp = Q3_temp + 1.5 * IQR_temp\n",
        "outliers_temp_iqr = df.loc[(df['Humidity'] < lower_bound_temp) | (df['Humidity'] > upper_bound_temp)]\n",
        "\n",
        "# Display summary statistics and sample data for contextual and temporal analysis\n",
        "outlier_summary_z = outliers_temp_z[['Formatted Date', 'Summary', 'Apparent Temperature (C)', 'Humidity', 'Wind Speed (km/h)', 'Temperature (C)']].sample(10)\n",
        "outlier_summary_iqr = outliers_temp_iqr[['Formatted Date', 'Summary', 'Apparent Temperature (C)', 'Humidity', 'Wind Speed (km/h)', 'Temperature (C)']].sample(10)\n",
        "\n",
        "print(\"Summary of Outliers using Z-score:\")\n",
        "display(outlier_summary_z)\n",
        "\n",
        "print(\"\\nSummary of Outliers using IQR:\")\n",
        "display(outlier_summary_iqr)"
      ],
      "metadata": {
        "id": "SrDkThLQqgTJ"
      },
      "execution_count": null,
      "outputs": []
    },
    {
      "cell_type": "code",
      "source": [
        "import pandas as pd\n",
        "import numpy as np\n",
        "\n",
        "\n",
        "# Calculate the Z-scores for 'Temperature (C)'\n",
        "z_scores_temp = (df['Pressure (millibars)'] - df['Pressure (millibars)'].mean()) / df['Pressure (millibars)'].std()\n",
        "\n",
        "# Identify outliers using Z-score method for 'Temperature (C)'\n",
        "outliers_temp_z = df.loc[z_scores_temp.abs() > 3]\n",
        "\n",
        "# Calculate IQR and identify outliers using IQR method for 'Temperature (C)'\n",
        "Q1_temp = df['Pressure (millibars)'].quantile(0.25)\n",
        "Q3_temp = df['Pressure (millibars)'].quantile(0.75)\n",
        "IQR_temp = Q3_temp - Q1_temp\n",
        "lower_bound_temp = Q1_temp - 1.5 * IQR_temp\n",
        "upper_bound_temp = Q3_temp + 1.5 * IQR_temp\n",
        "outliers_temp_iqr = df.loc[(df['Pressure (millibars)'] < lower_bound_temp) | (df['Pressure (millibars)'] > upper_bound_temp)]\n",
        "\n",
        "# Display summary statistics and sample data for contextual and temporal analysis\n",
        "outlier_summary_z = outliers_temp_z[['Formatted Date','Pressure (millibars)', 'Summary', 'Apparent Temperature (C)', 'Humidity', 'Wind Speed (km/h)', 'Temperature (C)']].sample(10)\n",
        "outlier_summary_iqr = outliers_temp_iqr[['Formatted Date', 'Pressure (millibars)','Summary', 'Apparent Temperature (C)', 'Humidity', 'Wind Speed (km/h)', 'Temperature (C)']].sample(10)\n",
        "\n",
        "print(\"Summary of Outliers using Z-score:\")\n",
        "display(outlier_summary_z)\n",
        "\n",
        "print(\"\\nSummary of Outliers using IQR:\")\n",
        "display(outlier_summary_iqr)"
      ],
      "metadata": {
        "id": "IvTKEDVPrZHg"
      },
      "execution_count": null,
      "outputs": []
    },
    {
      "cell_type": "code",
      "source": [
        "import seaborn as sns\n",
        "import matplotlib.pyplot as plt\n",
        "\n",
        "\n",
        "plt.figure(figsize=(8, 6))\n",
        "sns.boxplot(x=df['Pressure (millibars)'])\n",
        "plt.title(\"Boxplot for Pressure (millibars)\")\n",
        "plt.xlabel(\"Pressure (millibars)\")\n",
        "plt.show()\n"
      ],
      "metadata": {
        "id": "jjETfp19r6Os"
      },
      "execution_count": null,
      "outputs": []
    },
    {
      "cell_type": "markdown",
      "source": [
        "seems pressure dataset outliers identifying is challenging. i think  distribution of data is complex"
      ],
      "metadata": {
        "id": "j1Nwvi9Xr8ry"
      }
    },
    {
      "cell_type": "code",
      "source": [
        "import seaborn as sns\n",
        "import matplotlib.pyplot as plt\n",
        "\n",
        "\n",
        "plt.figure(figsize=(8, 6))\n",
        "sns.kdeplot(df[\"Pressure (millibars)\"], shade=True)\n",
        "plt.title(\"Kernel Density Estimation (KDE) Plot\")\n",
        "plt.xlabel(\"Pressure (millibars)\")\n",
        "plt.ylabel(\"Density\")\n",
        "plt.show()\n"
      ],
      "metadata": {
        "id": "BIkM3tFjs0GH"
      },
      "execution_count": null,
      "outputs": []
    },
    {
      "cell_type": "markdown",
      "source": [
        "according to this graph spread more data around 1000 and others spread around 0."
      ],
      "metadata": {
        "id": "WNxynhhIt3gx"
      }
    },
    {
      "cell_type": "code",
      "source": [
        "count_pressure_zero = len(df[df['Pressure (millibars)'] == 0])\n",
        "\n",
        "# 'count_pressure_zero' contains the count of rows where 'Pressure (millibars)' is equal to 0\n",
        "print(\"Count of 'Pressure (millibars)' = 0:\", count_pressure_zero)\n"
      ],
      "metadata": {
        "colab": {
          "base_uri": "https://localhost:8080/"
        },
        "id": "fN3RPB2Ztp-k",
        "outputId": "35adcaa2-bcd0-42ea-91c1-741d6d481876"
      },
      "execution_count": null,
      "outputs": [
        {
          "output_type": "stream",
          "name": "stdout",
          "text": [
            "Count of 'Pressure (millibars)' = 0: 1288\n"
          ]
        }
      ]
    },
    {
      "cell_type": "markdown",
      "source": [
        "before we get outlier count as 1288. compare with this result these outliers come from 0 value. zero atmospheric pressure is not a realistic measurement. so these are completely outliers.so i choose to remove these outliers."
      ],
      "metadata": {
        "id": "LtWCdO50uE44"
      }
    },
    {
      "cell_type": "code",
      "source": [
        "import numpy as np\n",
        "import matplotlib.pyplot as plt\n",
        "import warnings\n",
        "warnings.filterwarnings(\"ignore\")\n",
        "\n",
        "fig, axes = plt.subplots(1,2)\n",
        "plt.tight_layout()\n",
        "print(\"Previous Shape With Outlier: \",df.shape)\n",
        "sns.boxplot(df['Pressure (millibars)'],orient='v',ax=axes[0])\n",
        "axes[0].title.set_text(\"Before\")\n",
        "\n",
        "########### HANDLING OUTLIER ######\n",
        "Q1 = df['Pressure (millibars)'].quantile(0.25)\n",
        "Q3 = df['Pressure (millibars)'].quantile(0.75)\n",
        "print(Q1,Q3)\n",
        "IQR = Q3-Q1\n",
        "print(IQR)\n",
        "\n",
        "lower_limit = Q1 - 1.5*IQR\n",
        "upper_limit = Q3 + 1.5*IQR\n",
        "print(lower_limit,upper_limit)\n",
        "\n",
        "df2 = df\n",
        "df['Pressure (millibars)'] = np.where(df['Pressure (millibars)']>upper_limit,upper_limit,df2['Pressure (millibars)'])\n",
        "df['Pressure (millibars)'] = np.where(df['Pressure (millibars)']<lower_limit,lower_limit,df2['Pressure (millibars)'])\n",
        "print(\"Shape After Removing Outliers:\", df.shape)\n",
        "sns.boxplot(df2['Pressure (millibars)'],orient='v',ax=axes[1])\n",
        "axes[1].title.set_text(\"After\")\n",
        "plt.show()\n"
      ],
      "metadata": {
        "id": "STQ7yKl7gGF3"
      },
      "execution_count": null,
      "outputs": []
    },
    {
      "cell_type": "code",
      "source": [
        "import numpy as np\n",
        "import matplotlib.pyplot as plt\n",
        "import warnings\n",
        "warnings.filterwarnings(\"ignore\")\n",
        "\n",
        "fig, axes = plt.subplots(1,2)\n",
        "plt.tight_layout()\n",
        "print(\"Previous Shape With Outlier: \",df.shape)\n",
        "sns.boxplot(df['Wind Speed (km/h)'],orient='v',ax=axes[0])\n",
        "axes[0].title.set_text(\"Before\")\n",
        "\n",
        "########### HANDLING OUTLIER ######\n",
        "Q1 = df['Wind Speed (km/h)'].quantile(0.25)\n",
        "Q3 = df['Wind Speed (km/h)'].quantile(0.75)\n",
        "print(Q1,Q3)\n",
        "IQR = Q3-Q1\n",
        "print(IQR)\n",
        "\n",
        "lower_limit = Q1 - 1.5*IQR\n",
        "upper_limit = Q3 + 1.5*IQR\n",
        "print(lower_limit,upper_limit)\n",
        "\n",
        "df2 = df\n",
        "df['Wind Speed (km/h)'] = np.where(df['Wind Speed (km/h)']>upper_limit,upper_limit,df2['Wind Speed (km/h)'])\n",
        "df['Wind Speed (km/h)'] = np.where(df['Wind Speed (km/h)']<lower_limit,lower_limit,df2['Wind Speed (km/h)'])\n",
        "print(\"Shape After Removing Outliers:\", df.shape)\n",
        "sns.boxplot(df2['Wind Speed (km/h)'],orient='v',ax=axes[1])\n",
        "axes[1].title.set_text(\"After\")\n",
        "plt.show()\n"
      ],
      "metadata": {
        "id": "xXEGzMN9mR4W"
      },
      "execution_count": null,
      "outputs": []
    },
    {
      "cell_type": "markdown",
      "source": [
        "# Transformation\n",
        "\n"
      ],
      "metadata": {
        "id": "rfOuc-dYoJmZ"
      }
    },
    {
      "cell_type": "code",
      "source": [
        "import matplotlib.pyplot as plt\n",
        "import scipy.stats as stats\n",
        "import pandas as pd\n",
        "\n",
        "# Create a grid with Q-Q plots and histograms\n",
        "fig, axes = plt.subplots(2, 6, figsize=(18, 6))\n",
        "\n",
        "num_vars = ['Apparent Temperature (C)', 'Humidity', 'Wind Speed (km/h)',\n",
        "            'Wind Bearing (degrees)', 'Visibility (km)',\n",
        "            'Pressure (millibars)']\n",
        "\n",
        "for i, var in enumerate(num_vars):\n",
        "    # Q-Q Plot\n",
        "    row = i // 6\n",
        "    col = i % 6\n",
        "    stats.probplot(df[var], dist=\"norm\", plot=axes[row, col])\n",
        "    axes[row, col].set_title(f'Q-Q Plot of {var}')\n",
        "\n",
        "    # Histogram\n",
        "    row = row + 1  # Move to the next row for histograms\n",
        "    axes[row, col].hist(df[var], bins=30, color='skyblue', edgecolor='black')\n",
        "    axes[row, col].set_title(f'Histogram of {var}')\n",
        "\n",
        "plt.tight_layout()\n",
        "plt.show()\n"
      ],
      "metadata": {
        "id": "8pkTRkRSoUc9"
      },
      "execution_count": null,
      "outputs": []
    },
    {
      "cell_type": "markdown",
      "source": [
        "all distributions look like normally distributed. it doesn't need any transformations."
      ],
      "metadata": {
        "id": "eEs3v12OkgG5"
      }
    },
    {
      "cell_type": "markdown",
      "source": [
        "#Feature Coding"
      ],
      "metadata": {
        "id": "6ClGyqW28RAP"
      }
    },
    {
      "cell_type": "markdown",
      "source": [
        "Let's perform one hot encoding to provide values for categorical data."
      ],
      "metadata": {
        "id": "_qjlPJDcpljN"
      }
    },
    {
      "cell_type": "code",
      "source": [
        "# perform one hot encoding with k\n",
        "data = pd.get_dummies(data, columns=['Summary','Precip Type','Daily Summary'])\n"
      ],
      "metadata": {
        "id": "8oJTmuY_8lO2"
      },
      "execution_count": null,
      "outputs": []
    },
    {
      "cell_type": "markdown",
      "source": [
        "#Feature Scaling\n"
      ],
      "metadata": {
        "id": "v7MBvjX68mDD"
      }
    },
    {
      "cell_type": "code",
      "source": [
        "import seaborn as sns\n",
        "\n",
        "sns.heatmap(df.corr(), annot=True)\n",
        "\n"
      ],
      "metadata": {
        "id": "Ty2p6__KwzWI"
      },
      "execution_count": null,
      "outputs": []
    },
    {
      "cell_type": "markdown",
      "source": [
        "#PCA\n"
      ],
      "metadata": {
        "id": "-3SFw8RxnP55"
      }
    },
    {
      "cell_type": "code",
      "source": [
        "import pandas as pd\n",
        "from sklearn.preprocessing import StandardScaler\n",
        "from sklearn.decomposition import PCA\n",
        "\n",
        "data =df\n",
        "numeric_data = ['Apparent Temperature (C)', 'Humidity', 'Wind Speed (km/h)',\n",
        "                   'Wind Bearing (degrees)', 'Visibility (km)',\n",
        "                   'Pressure (millibars)', 'Temperature (C)']\n",
        "\n",
        "numeric_columns = data.select_dtypes(include=['number'])\n",
        "\n",
        "# Standardize your data\n",
        "scaler = StandardScaler()\n",
        "scaled_data = scaler.fit_transform(numeric_columns)\n",
        "# Create a DataFrame with the scaled data\n",
        "x = pd.DataFrame(scaled_data)\n",
        "\n",
        "# Apply PCA to the scaled data\n",
        "pca = PCA()\n",
        "X_pca = pca.fit_transform(x)\n",
        "#X_reduced = PCA(n_components=5).fit_transform(X_pca)\n",
        "\n",
        "principalDf = pd.DataFrame(data = X_pca)\n",
        "principalDf.head(10)\n",
        "\n"
      ],
      "metadata": {
        "colab": {
          "base_uri": "https://localhost:8080/",
          "height": 390
        },
        "id": "vTNHIzNcnSAu",
        "outputId": "10744ee1-ad4c-4dd7-c67f-81818fc3054a"
      },
      "execution_count": null,
      "outputs": [
        {
          "output_type": "error",
          "ename": "ValueError",
          "evalue": "ignored",
          "traceback": [
            "\u001b[0;31m---------------------------------------------------------------------------\u001b[0m",
            "\u001b[0;31mValueError\u001b[0m                                Traceback (most recent call last)",
            "\u001b[0;32m<ipython-input-149-7952ed0da391>\u001b[0m in \u001b[0;36m<cell line: 14>\u001b[0;34m()\u001b[0m\n\u001b[1;32m     12\u001b[0m \u001b[0;31m# Standardize your data\u001b[0m\u001b[0;34m\u001b[0m\u001b[0;34m\u001b[0m\u001b[0m\n\u001b[1;32m     13\u001b[0m \u001b[0mscaler\u001b[0m \u001b[0;34m=\u001b[0m \u001b[0mStandardScaler\u001b[0m\u001b[0;34m(\u001b[0m\u001b[0;34m)\u001b[0m\u001b[0;34m\u001b[0m\u001b[0;34m\u001b[0m\u001b[0m\n\u001b[0;32m---> 14\u001b[0;31m \u001b[0mscaled_data\u001b[0m \u001b[0;34m=\u001b[0m \u001b[0mscaler\u001b[0m\u001b[0;34m.\u001b[0m\u001b[0mfit_transform\u001b[0m\u001b[0;34m(\u001b[0m\u001b[0mnumeric_columns\u001b[0m\u001b[0;34m)\u001b[0m\u001b[0;34m\u001b[0m\u001b[0;34m\u001b[0m\u001b[0m\n\u001b[0m\u001b[1;32m     15\u001b[0m \u001b[0;31m# Create a DataFrame with the scaled data\u001b[0m\u001b[0;34m\u001b[0m\u001b[0;34m\u001b[0m\u001b[0m\n\u001b[1;32m     16\u001b[0m \u001b[0mx\u001b[0m \u001b[0;34m=\u001b[0m \u001b[0mpd\u001b[0m\u001b[0;34m.\u001b[0m\u001b[0mDataFrame\u001b[0m\u001b[0;34m(\u001b[0m\u001b[0mscaled_data\u001b[0m\u001b[0;34m)\u001b[0m\u001b[0;34m\u001b[0m\u001b[0;34m\u001b[0m\u001b[0m\n",
            "\u001b[0;32m/usr/local/lib/python3.10/dist-packages/sklearn/utils/_set_output.py\u001b[0m in \u001b[0;36mwrapped\u001b[0;34m(self, X, *args, **kwargs)\u001b[0m\n\u001b[1;32m    138\u001b[0m     \u001b[0;34m@\u001b[0m\u001b[0mwraps\u001b[0m\u001b[0;34m(\u001b[0m\u001b[0mf\u001b[0m\u001b[0;34m)\u001b[0m\u001b[0;34m\u001b[0m\u001b[0;34m\u001b[0m\u001b[0m\n\u001b[1;32m    139\u001b[0m     \u001b[0;32mdef\u001b[0m \u001b[0mwrapped\u001b[0m\u001b[0;34m(\u001b[0m\u001b[0mself\u001b[0m\u001b[0;34m,\u001b[0m \u001b[0mX\u001b[0m\u001b[0;34m,\u001b[0m \u001b[0;34m*\u001b[0m\u001b[0margs\u001b[0m\u001b[0;34m,\u001b[0m \u001b[0;34m**\u001b[0m\u001b[0mkwargs\u001b[0m\u001b[0;34m)\u001b[0m\u001b[0;34m:\u001b[0m\u001b[0;34m\u001b[0m\u001b[0;34m\u001b[0m\u001b[0m\n\u001b[0;32m--> 140\u001b[0;31m         \u001b[0mdata_to_wrap\u001b[0m \u001b[0;34m=\u001b[0m \u001b[0mf\u001b[0m\u001b[0;34m(\u001b[0m\u001b[0mself\u001b[0m\u001b[0;34m,\u001b[0m \u001b[0mX\u001b[0m\u001b[0;34m,\u001b[0m \u001b[0;34m*\u001b[0m\u001b[0margs\u001b[0m\u001b[0;34m,\u001b[0m \u001b[0;34m**\u001b[0m\u001b[0mkwargs\u001b[0m\u001b[0;34m)\u001b[0m\u001b[0;34m\u001b[0m\u001b[0;34m\u001b[0m\u001b[0m\n\u001b[0m\u001b[1;32m    141\u001b[0m         \u001b[0;32mif\u001b[0m \u001b[0misinstance\u001b[0m\u001b[0;34m(\u001b[0m\u001b[0mdata_to_wrap\u001b[0m\u001b[0;34m,\u001b[0m \u001b[0mtuple\u001b[0m\u001b[0;34m)\u001b[0m\u001b[0;34m:\u001b[0m\u001b[0;34m\u001b[0m\u001b[0;34m\u001b[0m\u001b[0m\n\u001b[1;32m    142\u001b[0m             \u001b[0;31m# only wrap the first output for cross decomposition\u001b[0m\u001b[0;34m\u001b[0m\u001b[0;34m\u001b[0m\u001b[0m\n",
            "\u001b[0;32m/usr/local/lib/python3.10/dist-packages/sklearn/base.py\u001b[0m in \u001b[0;36mfit_transform\u001b[0;34m(self, X, y, **fit_params)\u001b[0m\n\u001b[1;32m    876\u001b[0m         \u001b[0;32mif\u001b[0m \u001b[0my\u001b[0m \u001b[0;32mis\u001b[0m \u001b[0;32mNone\u001b[0m\u001b[0;34m:\u001b[0m\u001b[0;34m\u001b[0m\u001b[0;34m\u001b[0m\u001b[0m\n\u001b[1;32m    877\u001b[0m             \u001b[0;31m# fit method of arity 1 (unsupervised transformation)\u001b[0m\u001b[0;34m\u001b[0m\u001b[0;34m\u001b[0m\u001b[0m\n\u001b[0;32m--> 878\u001b[0;31m             \u001b[0;32mreturn\u001b[0m \u001b[0mself\u001b[0m\u001b[0;34m.\u001b[0m\u001b[0mfit\u001b[0m\u001b[0;34m(\u001b[0m\u001b[0mX\u001b[0m\u001b[0;34m,\u001b[0m \u001b[0;34m**\u001b[0m\u001b[0mfit_params\u001b[0m\u001b[0;34m)\u001b[0m\u001b[0;34m.\u001b[0m\u001b[0mtransform\u001b[0m\u001b[0;34m(\u001b[0m\u001b[0mX\u001b[0m\u001b[0;34m)\u001b[0m\u001b[0;34m\u001b[0m\u001b[0;34m\u001b[0m\u001b[0m\n\u001b[0m\u001b[1;32m    879\u001b[0m         \u001b[0;32melse\u001b[0m\u001b[0;34m:\u001b[0m\u001b[0;34m\u001b[0m\u001b[0;34m\u001b[0m\u001b[0m\n\u001b[1;32m    880\u001b[0m             \u001b[0;31m# fit method of arity 2 (supervised transformation)\u001b[0m\u001b[0;34m\u001b[0m\u001b[0;34m\u001b[0m\u001b[0m\n",
            "\u001b[0;32m/usr/local/lib/python3.10/dist-packages/sklearn/preprocessing/_data.py\u001b[0m in \u001b[0;36mfit\u001b[0;34m(self, X, y, sample_weight)\u001b[0m\n\u001b[1;32m    822\u001b[0m         \u001b[0;31m# Reset internal state before fitting\u001b[0m\u001b[0;34m\u001b[0m\u001b[0;34m\u001b[0m\u001b[0m\n\u001b[1;32m    823\u001b[0m         \u001b[0mself\u001b[0m\u001b[0;34m.\u001b[0m\u001b[0m_reset\u001b[0m\u001b[0;34m(\u001b[0m\u001b[0;34m)\u001b[0m\u001b[0;34m\u001b[0m\u001b[0;34m\u001b[0m\u001b[0m\n\u001b[0;32m--> 824\u001b[0;31m         \u001b[0;32mreturn\u001b[0m \u001b[0mself\u001b[0m\u001b[0;34m.\u001b[0m\u001b[0mpartial_fit\u001b[0m\u001b[0;34m(\u001b[0m\u001b[0mX\u001b[0m\u001b[0;34m,\u001b[0m \u001b[0my\u001b[0m\u001b[0;34m,\u001b[0m \u001b[0msample_weight\u001b[0m\u001b[0;34m)\u001b[0m\u001b[0;34m\u001b[0m\u001b[0;34m\u001b[0m\u001b[0m\n\u001b[0m\u001b[1;32m    825\u001b[0m \u001b[0;34m\u001b[0m\u001b[0m\n\u001b[1;32m    826\u001b[0m     \u001b[0;32mdef\u001b[0m \u001b[0mpartial_fit\u001b[0m\u001b[0;34m(\u001b[0m\u001b[0mself\u001b[0m\u001b[0;34m,\u001b[0m \u001b[0mX\u001b[0m\u001b[0;34m,\u001b[0m \u001b[0my\u001b[0m\u001b[0;34m=\u001b[0m\u001b[0;32mNone\u001b[0m\u001b[0;34m,\u001b[0m \u001b[0msample_weight\u001b[0m\u001b[0;34m=\u001b[0m\u001b[0;32mNone\u001b[0m\u001b[0;34m)\u001b[0m\u001b[0;34m:\u001b[0m\u001b[0;34m\u001b[0m\u001b[0;34m\u001b[0m\u001b[0m\n",
            "\u001b[0;32m/usr/local/lib/python3.10/dist-packages/sklearn/preprocessing/_data.py\u001b[0m in \u001b[0;36mpartial_fit\u001b[0;34m(self, X, y, sample_weight)\u001b[0m\n\u001b[1;32m    859\u001b[0m \u001b[0;34m\u001b[0m\u001b[0m\n\u001b[1;32m    860\u001b[0m         \u001b[0mfirst_call\u001b[0m \u001b[0;34m=\u001b[0m \u001b[0;32mnot\u001b[0m \u001b[0mhasattr\u001b[0m\u001b[0;34m(\u001b[0m\u001b[0mself\u001b[0m\u001b[0;34m,\u001b[0m \u001b[0;34m\"n_samples_seen_\"\u001b[0m\u001b[0;34m)\u001b[0m\u001b[0;34m\u001b[0m\u001b[0;34m\u001b[0m\u001b[0m\n\u001b[0;32m--> 861\u001b[0;31m         X = self._validate_data(\n\u001b[0m\u001b[1;32m    862\u001b[0m             \u001b[0mX\u001b[0m\u001b[0;34m,\u001b[0m\u001b[0;34m\u001b[0m\u001b[0;34m\u001b[0m\u001b[0m\n\u001b[1;32m    863\u001b[0m             \u001b[0maccept_sparse\u001b[0m\u001b[0;34m=\u001b[0m\u001b[0;34m(\u001b[0m\u001b[0;34m\"csr\"\u001b[0m\u001b[0;34m,\u001b[0m \u001b[0;34m\"csc\"\u001b[0m\u001b[0;34m)\u001b[0m\u001b[0;34m,\u001b[0m\u001b[0;34m\u001b[0m\u001b[0;34m\u001b[0m\u001b[0m\n",
            "\u001b[0;32m/usr/local/lib/python3.10/dist-packages/sklearn/base.py\u001b[0m in \u001b[0;36m_validate_data\u001b[0;34m(self, X, y, reset, validate_separately, **check_params)\u001b[0m\n\u001b[1;32m    563\u001b[0m             \u001b[0;32mraise\u001b[0m \u001b[0mValueError\u001b[0m\u001b[0;34m(\u001b[0m\u001b[0;34m\"Validation should be done on X, y or both.\"\u001b[0m\u001b[0;34m)\u001b[0m\u001b[0;34m\u001b[0m\u001b[0;34m\u001b[0m\u001b[0m\n\u001b[1;32m    564\u001b[0m         \u001b[0;32melif\u001b[0m \u001b[0;32mnot\u001b[0m \u001b[0mno_val_X\u001b[0m \u001b[0;32mand\u001b[0m \u001b[0mno_val_y\u001b[0m\u001b[0;34m:\u001b[0m\u001b[0;34m\u001b[0m\u001b[0;34m\u001b[0m\u001b[0m\n\u001b[0;32m--> 565\u001b[0;31m             \u001b[0mX\u001b[0m \u001b[0;34m=\u001b[0m \u001b[0mcheck_array\u001b[0m\u001b[0;34m(\u001b[0m\u001b[0mX\u001b[0m\u001b[0;34m,\u001b[0m \u001b[0minput_name\u001b[0m\u001b[0;34m=\u001b[0m\u001b[0;34m\"X\"\u001b[0m\u001b[0;34m,\u001b[0m \u001b[0;34m**\u001b[0m\u001b[0mcheck_params\u001b[0m\u001b[0;34m)\u001b[0m\u001b[0;34m\u001b[0m\u001b[0;34m\u001b[0m\u001b[0m\n\u001b[0m\u001b[1;32m    566\u001b[0m             \u001b[0mout\u001b[0m \u001b[0;34m=\u001b[0m \u001b[0mX\u001b[0m\u001b[0;34m\u001b[0m\u001b[0;34m\u001b[0m\u001b[0m\n\u001b[1;32m    567\u001b[0m         \u001b[0;32melif\u001b[0m \u001b[0mno_val_X\u001b[0m \u001b[0;32mand\u001b[0m \u001b[0;32mnot\u001b[0m \u001b[0mno_val_y\u001b[0m\u001b[0;34m:\u001b[0m\u001b[0;34m\u001b[0m\u001b[0;34m\u001b[0m\u001b[0m\n",
            "\u001b[0;32m/usr/local/lib/python3.10/dist-packages/sklearn/utils/validation.py\u001b[0m in \u001b[0;36mcheck_array\u001b[0;34m(array, accept_sparse, accept_large_sparse, dtype, order, copy, force_all_finite, ensure_2d, allow_nd, ensure_min_samples, ensure_min_features, estimator, input_name)\u001b[0m\n\u001b[1;32m    919\u001b[0m \u001b[0;34m\u001b[0m\u001b[0m\n\u001b[1;32m    920\u001b[0m         \u001b[0;32mif\u001b[0m \u001b[0mforce_all_finite\u001b[0m\u001b[0;34m:\u001b[0m\u001b[0;34m\u001b[0m\u001b[0;34m\u001b[0m\u001b[0m\n\u001b[0;32m--> 921\u001b[0;31m             _assert_all_finite(\n\u001b[0m\u001b[1;32m    922\u001b[0m                 \u001b[0marray\u001b[0m\u001b[0;34m,\u001b[0m\u001b[0;34m\u001b[0m\u001b[0;34m\u001b[0m\u001b[0m\n\u001b[1;32m    923\u001b[0m                 \u001b[0minput_name\u001b[0m\u001b[0;34m=\u001b[0m\u001b[0minput_name\u001b[0m\u001b[0;34m,\u001b[0m\u001b[0;34m\u001b[0m\u001b[0;34m\u001b[0m\u001b[0m\n",
            "\u001b[0;32m/usr/local/lib/python3.10/dist-packages/sklearn/utils/validation.py\u001b[0m in \u001b[0;36m_assert_all_finite\u001b[0;34m(X, allow_nan, msg_dtype, estimator_name, input_name)\u001b[0m\n\u001b[1;32m    159\u001b[0m                 \u001b[0;34m\"#estimators-that-handle-nan-values\"\u001b[0m\u001b[0;34m\u001b[0m\u001b[0;34m\u001b[0m\u001b[0m\n\u001b[1;32m    160\u001b[0m             )\n\u001b[0;32m--> 161\u001b[0;31m         \u001b[0;32mraise\u001b[0m \u001b[0mValueError\u001b[0m\u001b[0;34m(\u001b[0m\u001b[0mmsg_err\u001b[0m\u001b[0;34m)\u001b[0m\u001b[0;34m\u001b[0m\u001b[0;34m\u001b[0m\u001b[0m\n\u001b[0m\u001b[1;32m    162\u001b[0m \u001b[0;34m\u001b[0m\u001b[0m\n\u001b[1;32m    163\u001b[0m \u001b[0;34m\u001b[0m\u001b[0m\n",
            "\u001b[0;31mValueError\u001b[0m: Input X contains infinity or a value too large for dtype('float64')."
          ]
        }
      ]
    },
    {
      "cell_type": "code",
      "source": [
        "pca.explained_variance_ratio_"
      ],
      "metadata": {
        "id": "3Nw1hqofoqdV",
        "colab": {
          "base_uri": "https://localhost:8080/"
        },
        "outputId": "54b1f546-f74d-4e3f-be9a-bb065d94c39e"
      },
      "execution_count": null,
      "outputs": [
        {
          "output_type": "execute_result",
          "data": {
            "text/plain": [
              "array([0.39411782, 0.16490099, 0.14421675, 0.13495871, 0.10269339,\n",
              "       0.05839555, 0.0007168 , 0.        ])"
            ]
          },
          "metadata": {},
          "execution_count": 17
        }
      ]
    },
    {
      "cell_type": "markdown",
      "source": [
        "first five principal components explain a relatively higher proportion of the variance compared to the later twos.first 5 principal components are sufficient to capture 95% of the total variance in the dataset"
      ],
      "metadata": {
        "id": "lLjyJFHK_wl0"
      }
    },
    {
      "cell_type": "markdown",
      "source": [
        "#Identifying Significant and Independent Features"
      ],
      "metadata": {
        "id": "fBRXmjWXI9D6"
      }
    },
    {
      "cell_type": "code",
      "source": [
        "import matplotlib.pyplot as plt\n",
        "# Calculate the correlation matrix\n",
        "correlation_matrix = df.corr()\n",
        "\n",
        "# Create a heatmap to visualize the correlations\n",
        "import seaborn as sns\n",
        "plt.figure(figsize=(10, 8))\n",
        "sns.heatmap(correlation_matrix, annot=True, cmap='coolwarm')\n",
        "plt.title('Correlation Heatmap')\n",
        "plt.show()\n",
        "\n",
        "\n"
      ],
      "metadata": {
        "id": "1gRl8UsAJGE4"
      },
      "execution_count": null,
      "outputs": []
    },
    {
      "cell_type": "code",
      "source": [
        "# Convert the correlation matrix to a table\n",
        "correlation_table = correlation_matrix.to_string()\n",
        "\n",
        "# Print or display the correlation matrix as a table\n",
        "print(\"Correlation Matrix as Table:\")\n",
        "print(correlation_table)"
      ],
      "metadata": {
        "id": "BLqhFLvuEDpe"
      },
      "execution_count": null,
      "outputs": []
    },
    {
      "cell_type": "markdown",
      "source": [
        "\n",
        "* Apparent Temperature (C) : highly correlated with \"Temperature (C)\" (correlation coefficient of 0.992629). it can be possible. because apparent temperature is derived from the actual temperature and other factors. so they are not independent.\n",
        "\n",
        "* Humidity: Humidity has a moderate negative correlation with temperature. It could be a significant predictor because there's a relationship, and it's not highly correlated with other variables.\n",
        "\n",
        "* Wind Speed (km/h): Wind Speed has a low positive correlation with temperature. It's not highly correlated with other variables and may be a significant predictor.\n",
        "\n",
        "* Wind Bearing (degrees): This feature has a low correlation with temperature.\n",
        "\n",
        "* Visibility (km): Visibility has a moderate positive correlation with temperature. It could be a significant predictor.\n",
        "\n",
        "* Pressure (millibars): Pressure has a low correlation with temperature.\n",
        "\n"
      ],
      "metadata": {
        "id": "EMAPqoc1HabF"
      }
    },
    {
      "cell_type": "markdown",
      "source": [
        "#Data Selection\n"
      ],
      "metadata": {
        "id": "jFxwvCoXc9iz"
      }
    },
    {
      "cell_type": "code",
      "source": [
        "X = df[['Humidity','Apparent Temperature (C)',\n",
        "       'Wind Speed (km/h)', 'Wind Bearing (degrees)', 'Visibility (km)',\n",
        "       'Pressure (millibars)']]\n",
        "y = df[\"Temperature (C)\"].values"
      ],
      "metadata": {
        "id": "ul9hcCNsdFOB"
      },
      "execution_count": null,
      "outputs": []
    },
    {
      "cell_type": "markdown",
      "source": [
        "X represents feature matrix, which contains the independent variables.\n",
        "y represents target variable, which you want to predict.(predict temperature)"
      ],
      "metadata": {
        "id": "XVJicLzdeO3T"
      }
    },
    {
      "cell_type": "code",
      "source": [
        "from sklearn.model_selection import train_test_split\n",
        "X_train,X_test,y_train,y_test = train_test_split(X,y,test_size=0.2,random_state=42)"
      ],
      "metadata": {
        "id": "ZL9W9-vddc3P"
      },
      "execution_count": null,
      "outputs": []
    },
    {
      "cell_type": "markdown",
      "source": [
        " 20% of the data will be used for testing, and the remaining 80% for training."
      ],
      "metadata": {
        "id": "HekQu4Xpdd2e"
      }
    },
    {
      "cell_type": "markdown",
      "source": [
        "## Linear Regression"
      ],
      "metadata": {
        "id": "-N_Y3EbXespw"
      }
    },
    {
      "cell_type": "code",
      "source": [
        "from sklearn.linear_model import LinearRegression\n",
        "\n",
        "lr = LinearRegression()\n",
        "model = lr.fit(X_train,y_train)\n",
        "\n",
        "print(\"linear regression Coef:\",lr.coef_)\n",
        "print(\"linear regression Intercept:\",lr.intercept_)"
      ],
      "metadata": {
        "colab": {
          "base_uri": "https://localhost:8080/"
        },
        "id": "IXjunHVle3ur",
        "outputId": "690d200a-d635-4f93-edab-2cf734bc593e"
      },
      "execution_count": null,
      "outputs": [
        {
          "output_type": "stream",
          "name": "stdout",
          "text": [
            "linear regression Coef: [-1.41898621e+00  8.72566684e-01  7.97670315e-02 -4.04011835e-04\n",
            "  8.62917874e-03 -2.05656529e-04]\n",
            "linear regression Intercept: 2.831985728894681\n"
          ]
        }
      ]
    },
    {
      "cell_type": "code",
      "source": [
        "# Get the predicted values using test data\n",
        "y_pred = lr.predict(X_test)\n",
        "\n",
        "print(\"Predicted values:\", y_pred)"
      ],
      "metadata": {
        "colab": {
          "base_uri": "https://localhost:8080/"
        },
        "id": "JywzPiXngzNM",
        "outputId": "8537c2f9-339e-46c6-cb0c-9f52cd802027"
      },
      "execution_count": null,
      "outputs": [
        {
          "output_type": "stream",
          "name": "stdout",
          "text": [
            "Predicted values: [28.10156877  9.59708665 15.17032123 ... 12.00162429 24.81693423\n",
            " 19.51879461]\n"
          ]
        }
      ]
    },
    {
      "cell_type": "code",
      "source": [
        "import matplotlib.pyplot as plt\n",
        "# Create a scatter plot to visualize the actual vs. predicted values\n",
        "plt.figure(figsize=(8, 6))\n",
        "plt.scatter(y_test, y_pred, color='blue', label='Actual vs. Predicted')\n",
        "plt.plot([min(y_test), max(y_test)], [min(y_test), max(y_test)], linestyle='--', color='red', label='Perfect Predictions')\n",
        "\n",
        "plt.title('Actual vs. Predicted Values')\n",
        "plt.xlabel('Actual Values')\n",
        "plt.ylabel('Predicted Values')\n",
        "plt.legend()\n",
        "plt.grid(True)\n",
        "plt.show()"
      ],
      "metadata": {
        "colab": {
          "base_uri": "https://localhost:8080/",
          "height": 564
        },
        "id": "Ueff06nEhVwk",
        "outputId": "16e64e30-e44c-443a-fbe4-f6d30acffc05"
      },
      "execution_count": null,
      "outputs": [
        {
          "output_type": "display_data",
          "data": {
            "text/plain": [
              "<Figure size 800x600 with 1 Axes>"
            ],
            "image/png": "[encoded data removed]"
          },
          "metadata": {}
        }
      ]
    },
    {
      "cell_type": "markdown",
      "source": [
        " the data points are scattered closely around the red line, it suggests that your model is making accurate predictions."
      ],
      "metadata": {
        "id": "74Hm3dxxkQDk"
      }
    },
    {
      "cell_type": "code",
      "source": [
        "from sklearn.metrics import r2_score, mean_squared_error, mean_absolute_error\n",
        "# Calculate R-squared\n",
        "r_squared = r2_score(y_test, y_pred)\n",
        "print(\"R-squared:\", r_squared)\n",
        "\n",
        "# Calculate Mean Squared Error (MSE)\n",
        "mse = mean_squared_error(y_test, y_pred)\n",
        "print(\"Mean Squared Error:\", mse)\n",
        "\n",
        "# Calculate Mean Absolute Error (MAE)\n",
        "mae = mean_absolute_error(y_test, y_pred)\n",
        "print(\"Mean Absolute Error:\", mae)"
      ],
      "metadata": {
        "colab": {
          "base_uri": "https://localhost:8080/"
        },
        "id": "xJcT_Qmtkn-B",
        "outputId": "b51cf318-1249-4b86-f001-a22ca6bb0042"
      },
      "execution_count": null,
      "outputs": [
        {
          "output_type": "stream",
          "name": "stdout",
          "text": [
            "R-squared: 0.9902437799520607\n",
            "Mean Squared Error: 0.89912616805208\n",
            "Mean Absolute Error: 0.7424884675274087\n"
          ]
        }
      ]
    },
    {
      "cell_type": "markdown",
      "source": [
        "\n",
        "\n",
        "* R-squared value of 0.9902 is very close to 1, which suggests that model explains approximately 99.02% of the variance in the target variable. This is a very high R-squared value, indicating that model is doing an excellent job of fitting the data.\n",
        "* MSE value of 0.8991 is relatively low. MSE measures the average squared difference between the actual and predicted values, and a lower value indicates smaller prediction errors.\n",
        "*   MAE value of 0.7425 is also relatively low. MAE measures the average absolute difference between the actual and predicted values. Like MSE, a lower MAE suggests smaller errors in prediction.\n",
        "\n",
        "These metrics collectively suggest that linear regression model is providing accurate and precise predictions for the target variable.\n",
        "\n",
        "\n",
        "\n",
        "\n"
      ],
      "metadata": {
        "id": "J51Y20Dqkujb"
      }
    },
    {
      "cell_type": "code",
      "source": [
        " # Perform 5-fold cross validation\n",
        "scores = cross_val_score(model, X_train, y_train, cv=5)\n",
        "print(\"Cross-validated scores:\", scores)\n",
        "\n",
        "predictions = cross_val_predict(model, X_train, y_train, cv=5)\n",
        "accuracy = metrics.r2_score( y_train, predictions)\n",
        "print(\"Cross-Predicted Accuracy:\", accuracy)"
      ],
      "metadata": {
        "colab": {
          "base_uri": "https://localhost:8080/"
        },
        "id": "qdjB8pd1T5nB",
        "outputId": "53a81cb8-53ba-44c4-df06-02f86e52f5af"
      },
      "execution_count": null,
      "outputs": [
        {
          "output_type": "stream",
          "name": "stdout",
          "text": [
            "Cross-validated scores: [0.99008292 0.9899722  0.99000974 0.99024206 0.99016745]\n",
            "Cross-Predicted Accuracy: 0.9900966797560411\n"
          ]
        }
      ]
    },
    {
      "cell_type": "markdown",
      "source": [
        "##Lasso Regression with Cross Validation"
      ],
      "metadata": {
        "id": "oZ61a6oXhnhR"
      }
    },
    {
      "cell_type": "code",
      "source": [
        "from sklearn.linear_model import LassoCV\n",
        "from sklearn.model_selection import KFold\n",
        "\n",
        "# X_train: Training feature matrix, y_train: Training target variable\n",
        "# X_test: Test feature matrix\n",
        "\n",
        "# Create a LassoCV model with K-fold cross-validation (K=10)\n",
        "lasso_cv = LassoCV(alphas=[0.001, 0.01, 0.1, 1, 10], cv=KFold(n_splits=10))\n",
        "\n",
        "# Fit the LassoCV model to training data\n",
        "lasso_cv.fit(X_train, y_train)\n",
        "\n",
        "# Get the best alpha (regularization parameter) determined by cross-validation\n",
        "best_alpha = lasso_cv.alpha_\n",
        "\n",
        "# Make predictions for the test dataset\n",
        "y_pred_lasso = lasso_cv.predict(X_test)\n",
        "\n",
        "# y_pred_lasso now contains the predicted values for the test data\n",
        "\n",
        "print(\"Predicted values using Lasso Regression:\", y_pred_lasso)\n",
        "\n"
      ],
      "metadata": {
        "colab": {
          "base_uri": "https://localhost:8080/"
        },
        "id": "mlteEN5_yoaN",
        "outputId": "49e41499-51d7-4407-e40f-11e5c35cf7f5"
      },
      "execution_count": null,
      "outputs": [
        {
          "output_type": "stream",
          "name": "stdout",
          "text": [
            "Predicted values using Lasso Regression: [28.10222857  9.60128465 15.16817644 ... 11.99165064 24.81627813\n",
            " 19.51728219]\n"
          ]
        }
      ]
    },
    {
      "cell_type": "markdown",
      "source": [
        "##Ridge Regression with Cross Validation"
      ],
      "metadata": {
        "id": "PTWifTtm1BOf"
      }
    },
    {
      "cell_type": "code",
      "source": [
        "from sklearn.linear_model import RidgeCV\n",
        "from sklearn.model_selection import KFold\n",
        "\n",
        "# Assuming you have X_train, y_train, and X_test\n",
        "# X_train: Training feature matrix, y_train: Training target variable\n",
        "# X_test: Test feature matrix\n",
        "\n",
        "# Create a RidgeCV model with K-fold cross-validation (K=10)\n",
        "ridge_cv = RidgeCV(alphas=[0.001, 0.01, 0.1, 1, 10], cv=KFold(n_splits=10))\n",
        "\n",
        "# Fit the RidgeCV model to your training data\n",
        "Rmodel = ridge_cv.fit(X_train, y_train)\n",
        "\n",
        "# Get the best alpha (regularization parameter) determined by cross-validation\n",
        "best_alpha = ridge_cv.alpha_\n",
        "\n",
        "# Make predictions for the test dataset\n",
        "y_pred_ridge = ridge_cv.predict(X_test)\n",
        "\n",
        "# y_pred_ridge now contains the predicted values for the test data\n",
        "\n",
        "# You can print or use the predicted values as needed\n",
        "print(\"Predicted values using Ridge Regression:\", y_pred_ridge)\n"
      ],
      "metadata": {
        "colab": {
          "base_uri": "https://localhost:8080/"
        },
        "id": "TWhxg_Xs1GO7",
        "outputId": "cd5bb7f1-e960-4ffd-efdf-5889a474e8f4"
      },
      "execution_count": null,
      "outputs": [
        {
          "output_type": "stream",
          "name": "stdout",
          "text": [
            "Predicted values using Ridge Regression: [28.10158535  9.59716631 15.17028022 ... 12.00143687 24.8169232\n",
            " 19.51876674]\n"
          ]
        }
      ]
    },
    {
      "cell_type": "code",
      "source": [
        " # Perform 5-fold cross validation\n",
        "scores = cross_val_score(Rmodel, X_train, y_train, cv=5)\n",
        "print(\"Cross-validated scores:\", scores)\n",
        "\n",
        "predictions = cross_val_predict(Rmodel, X_train, y_train, cv=5)\n",
        "accuracy = metrics.r2_score( y_train, predictions)\n",
        "print(\"Cross-Predicted Accuracy:\", accuracy)"
      ],
      "metadata": {
        "colab": {
          "base_uri": "https://localhost:8080/"
        },
        "id": "XYlCdFmJT9mB",
        "outputId": "f6228d9e-8a43-42d8-9b4f-ba46d0cd29b7"
      },
      "execution_count": null,
      "outputs": [
        {
          "output_type": "stream",
          "name": "stdout",
          "text": [
            "Cross-validated scores: [0.99008292 0.9899722  0.99000977 0.99024205 0.99016742]\n",
            "Cross-Predicted Accuracy: 0.990096677695866\n"
          ]
        }
      ]
    },
    {
      "cell_type": "markdown",
      "source": [
        "Compare Applicability of regression models"
      ],
      "metadata": {
        "id": "QmzDCgYp1vIV"
      }
    },
    {
      "cell_type": "code",
      "source": [
        "from sklearn.linear_model import Ridge, Lasso\n",
        "from sklearn.model_selection import cross_val_score,cross_val_predict\n",
        "from sklearn import metrics\n",
        "models = []\n",
        "models.append((\"LinearRegression\", LinearRegression()))\n",
        "models.append((\"Ridge\", Ridge()))\n",
        "models.append((\"Lasso\", Lasso()))\n",
        "\n",
        "\n",
        "results = []\n",
        "names = []\n",
        "\n",
        "for name, model in models:\n",
        "  cv_results = cross_val_score(model, X_train, y_train, cv=5,\n",
        "                              scoring=\"r2\")\n",
        "  results.append(cv_results)\n",
        "  names.append(name)\n",
        "  print(f\"Model name: {name}, Accuracy: {cv_results.mean()}\")\n",
        "\n"
      ],
      "metadata": {
        "colab": {
          "base_uri": "https://localhost:8080/"
        },
        "id": "ygKdVVas5Xov",
        "outputId": "211c32f7-aae3-447a-f260-f2e58c8e2995"
      },
      "execution_count": null,
      "outputs": [
        {
          "output_type": "stream",
          "name": "stdout",
          "text": [
            "Model name: LinearRegression, Accuracy: 0.9900948735782009\n",
            "Model name: Ridge, Accuracy: 0.9900948737653964\n",
            "Model name: Lasso, Accuracy: 0.9892287978720853\n"
          ]
        }
      ]
    },
    {
      "cell_type": "markdown",
      "source": [
        "The accuracy of the model, LinearRegression, is 0.9900948735782009.\n",
        "\n",
        "The average R-squared score for the Linear Regression model across the 5 folds of cross-validation is approximately 0.9901. This shows a strong level of fit for the linear regression model, which accounts for around 99.01% of the variance in the target variable.\n",
        "\n",
        "Ridge model; precision: 0.9900948737653964\n",
        "\n",
        "\n",
        "\n",
        "The average R-squared score for the Ridge Regression model over the five folds of cross-validation is quite similar to the Linear Regression model, coming in at about 0.9901. Ridge Regression, a regularized variation of Linear Regression, doesn't appear to have a substantial effect on the model's performance in this instance.\n",
        "\n",
        "Lasso model; precision: 0.9892287978720853\n",
        "\n",
        "\n",
        "\n",
        "The average R-squared score over the five folds of cross-validation for the Lasso Regression model is marginally lower than the Linear"
      ],
      "metadata": {
        "id": "VMEKMyUe9js2"
      }
    },
    {
      "cell_type": "code",
      "source": [
        "from sklearn.linear_model import LinearRegression, Lasso, Ridge\n",
        "from sklearn.model_selection import cross_val_score\n",
        "from sklearn.metrics import mean_absolute_error, mean_squared_error, r2_score\n",
        "from math import sqrt\n",
        "\n",
        "# Assuming you have X_train, y_train, and X_test as your training and test data\n",
        "\n",
        "# Initialize models\n",
        "models = [\n",
        "    (\"Linear Regression\", LinearRegression()),\n",
        "    (\"Lasso Regression\", Lasso()),\n",
        "    (\"Ridge Regression\", Ridge())\n",
        "]\n",
        "\n",
        "# Initialize evaluation dictionaries for each metric\n",
        "mae_scores = {}\n",
        "mse_scores = {}\n",
        "rmse_scores = {}\n",
        "r2_scores = {}\n",
        "\n",
        "# Loop through models and evaluate\n",
        "for name, model in models:\n",
        "    # Perform 10-fold cross-validation\n",
        "    cv_scores = cross_val_score(model, X_train, y_train, cv=10, scoring='neg_mean_absolute_error')\n",
        "    mae_scores[name] = -cv_scores.mean()  # Convert back to positive\n",
        "\n",
        "    cv_scores = cross_val_score(model, X_train, y_train, cv=10, scoring='neg_mean_squared_error')\n",
        "    mse_scores[name] = sqrt(-cv_scores.mean())  # Convert back to positive\n",
        "\n",
        "    cv_scores = cross_val_score(model, X_train, y_train, cv=10, scoring='r2')\n",
        "    r2_scores[name] = cv_scores.mean()\n",
        "\n",
        "# Find the best model based on MAE\n",
        "best_model_name = max(mae_scores, key=mae_scores.get)\n",
        "\n",
        "# Find the model object with the best name\n",
        "best_model = None\n",
        "for name, model in models:\n",
        "    if name == best_model_name:\n",
        "        best_model = model\n",
        "        break\n",
        "\n",
        "# Check if the best_model is not None (in case there is no match)\n",
        "if best_model is not None:\n",
        "    # Fit the best model on the entire training set and make predictions on the test set\n",
        "    best_model.fit(X_train, y_train)\n",
        "    y_pred = best_model.predict(X_test)\n",
        "\n",
        "    # Evaluate the model on the test set\n",
        "    mae_test = mean_absolute_error(y_test, y_pred)\n",
        "    mse_test = mean_squared_error(y_test, y_pred)\n",
        "    rmse_test = sqrt(mse_test)\n",
        "    r2_test = r2_score(y_test, y_pred)\n",
        "\n",
        "    print(f\"Best Model: {best_model_name}\")\n",
        "    print(f\"Test MAE: {mae_test}\")\n",
        "    print(f\"Test MSE: {mse_test}\")\n",
        "    print(f\"Test RMSE: {rmse_test}\")\n",
        "    print(f\"Test R2: {r2_test}\")\n",
        "else:\n",
        "    print(\"No best model found.\")\n",
        "\n"
      ],
      "metadata": {
        "colab": {
          "base_uri": "https://localhost:8080/"
        },
        "id": "UX5TVgJ_8w3W",
        "outputId": "a34764d4-c6be-4fa5-f31a-1ac13674e6ae"
      },
      "execution_count": null,
      "outputs": [
        {
          "output_type": "stream",
          "name": "stdout",
          "text": [
            "Best Model: Lasso Regression\n",
            "Test MAE: 0.7671632230012007\n",
            "Test MSE: 0.9788263614043741\n",
            "Test RMSE: 0.9893565390719233\n",
            "Test R2: 0.9893789707052196\n"
          ]
        }
      ]
    }
  ]
}